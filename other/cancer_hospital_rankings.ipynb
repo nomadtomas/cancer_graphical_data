{
 "cells": [
  {
   "cell_type": "code",
   "execution_count": null,
   "metadata": {
    "collapsed": true
   },
   "outputs": [],
   "source": [
    "import pandas as pd \n",
    "from splinter import Browser\n",
    "from selenium import webdriver\n",
    "from bs4 import BeautifulSoup as bs\n",
    "import requests\n",
    "import numpy as np\n",
    "import json"
   ]
  },
  {
   "cell_type": "code",
   "execution_count": null,
   "metadata": {
    "collapsed": true
   },
   "outputs": [],
   "source": [
    "#Browser setup\n",
    "executable_path = {\"executable_path\": \"/usr/local/bin/chromedriver\"}\n",
    "browser = Browser(\"chrome\")"
   ]
  },
  {
   "cell_type": "code",
   "execution_count": null,
   "metadata": {
    "collapsed": true
   },
   "outputs": [],
   "source": [
    "base_url = \"https://health.usnews.com/best-hospitals/rankings/cancer?page=\"\n",
    "mini_url = \"https://health.usnews.com\""
   ]
  },
  {
   "cell_type": "code",
   "execution_count": null,
   "metadata": {
    "collapsed": true
   },
   "outputs": [],
   "source": [
    "soup = bs(browser.html, 'lxml')"
   ]
  },
  {
   "cell_type": "code",
   "execution_count": null,
   "metadata": {
    "collapsed": true
   },
   "outputs": [],
   "source": [
    "list_ = [str(x) for x in list(range(1,10))]"
   ]
  },
  {
   "cell_type": "code",
   "execution_count": null,
   "metadata": {
    "collapsed": true
   },
   "outputs": [],
   "source": [
    "for x in list_:\n",
    "    print(base_url + x)"
   ]
  },
  {
   "cell_type": "code",
   "execution_count": null,
   "metadata": {
    "collapsed": true
   },
   "outputs": [],
   "source": [
    "df = pd.DataFrame([])\n",
    "def dataframes(url):\n",
    "    city = []\n",
    "    browser.visit(url)\n",
    "    soup = bs(browser.html, 'lxml')\n",
    "    name = soup.find_all(\"h3\", class_=\"block-flush heading-large\")\n",
    "    ranking = soup.find_all(\"span\", class_=\"heading-small\")\n",
    "    score = soup.find_all(\"div\", class_=\"text-strong text-tighter\")\n",
    "    web = soup.find_all(class_=\"search-match-card-view\")\n",
    "    \n",
    "    names = [x.get_text(strip=True) for x in name]\n",
    "    rankings = [x.get_text(strip=True) for x in ranking]\n",
    "    scores = [x.get_text(strip=True) for x in score]\n",
    "    info = soup.find_all(\"div\", class_=\"block-tight\")\n",
    "    websites = [mini_url + x.a[\"href\"] for x in web]\n",
    "    \n",
    "    for x in range(0,len(info[1:-1]),2):\n",
    "        city.append(info[x].get_text(strip=True).split(\"|\")[-1])\n",
    "        \n",
    "    df_names = pd.DataFrame(names)\n",
    "    df_rankings = pd.DataFrame(rankings)\n",
    "    df_scores = pd.DataFrame(scores)\n",
    "    df_cities = pd.DataFrame(city[1:])\n",
    "    df_web = pd.DataFrame(websites)\n",
    "    \n",
    "    df_1 = pd.merge(df_names, df_rankings, left_index=True, right_index=True)\n",
    "    df_2 = pd.merge(df_1, df_scores, left_index=True, right_index=True)\n",
    "    df_3 = pd.merge(df_2, df_cities, left_index=True, right_index=True)\n",
    "    df = pd.merge(df_3, df_web, left_index=True, right_index=True)\n",
    "    df.columns = [\"name\", \"rank\", \"score\", \"cities\", \"websites\"]\n",
    "    return df"
   ]
  },
  {
   "cell_type": "code",
   "execution_count": null,
   "metadata": {
    "collapsed": true
   },
   "outputs": [],
   "source": [
    "p1 = dataframes(\"https://health.usnews.com/best-hospitals/rankings/cancer?page=1\")\n",
    "p2 = dataframes(\"https://health.usnews.com/best-hospitals/rankings/cancer?page=2\")\n",
    "p3 = dataframes(\"https://health.usnews.com/best-hospitals/rankings/cancer?page=3\")\n",
    "p4 = dataframes(\"https://health.usnews.com/best-hospitals/rankings/cancer?page=4\")\n",
    "p5 = dataframes(\"https://health.usnews.com/best-hospitals/rankings/cancer?page=5\")\n",
    "p6 = dataframes(\"https://health.usnews.com/best-hospitals/rankings/cancer?page=6\")\n",
    "p7 = dataframes(\"https://health.usnews.com/best-hospitals/rankings/cancer?page=7\")\n",
    "p8 = dataframes(\"https://health.usnews.com/best-hospitals/rankings/cancer?page=8\")\n",
    "p9 = dataframes(\"https://health.usnews.com/best-hospitals/rankings/cancer?page=9\")"
   ]
  },
  {
   "cell_type": "code",
   "execution_count": null,
   "metadata": {
    "collapsed": true
   },
   "outputs": [],
   "source": [
    "m1 = p1.append(p2, ignore_index=True)\n",
    "m2 = m1.append(p3, ignore_index=True)\n",
    "m3 = m2.append(p4, ignore_index=True)\n",
    "m4 = m3.append(p5, ignore_index=True)\n",
    "m5 = m4.append(p6, ignore_index=True)\n",
    "m6 = m5.append(p7, ignore_index=True)\n",
    "m7 = m6.append(p8, ignore_index=True)\n",
    "df = m7.append(p9, ignore_index=True)"
   ]
  },
  {
   "cell_type": "code",
   "execution_count": null,
   "metadata": {
    "collapsed": true
   },
   "outputs": [],
   "source": [
    "df[\"num_rank\"] = df.iloc[:,1].map(lambda x : x.split(' ')[0].split(\"#\")[-1])\n",
    "df[\"num_score\"] = df.iloc[:,2].map(lambda x : x.split(\"/\")[0])\n",
    "df['city_name'] = df.iloc[:,3].map(lambda x : x.split(',')[0])\n",
    "df['state'] = df.iloc[:,3].map(lambda x : x.split(',')[1].split(' ')[1])\n",
    "df['zipcode'] = df.iloc[:,3].map(lambda x : x.split(',')[1].split(' ')[2])\n",
    "df[\"num_rank\"] = df[\"num_rank\"].replace(\"High\", 0).astype(int)\n",
    "df[\"num_score\"] = df[\"num_score\"].astype(float)"
   ]
  },
  {
   "cell_type": "code",
   "execution_count": null,
   "metadata": {
    "collapsed": true
   },
   "outputs": [],
   "source": [
    "lat = []\n",
    "lng = []\n",
    "\n",
    "names = df['name'].tolist()\n",
    "\n",
    "for name in names:\n",
    "    target_city = name\n",
    "    target_url = ('https://maps.googleapis.com/maps/api/geocode/json?'\n",
    "        'address={0}&key={1}').format(target_city, gkey)\n",
    "\n",
    "    geo_data = requests.get(target_url).json()\n",
    "    lat.append(geo_data['results'][0]['geometry']['viewport']['northeast']['lat'])\n",
    "    lng.append(geo_data['results'][0]['geometry']['viewport']['northeast']['lng'])\n",
    "    "
   ]
  },
  {
   "cell_type": "code",
   "execution_count": null,
   "metadata": {
    "collapsed": true
   },
   "outputs": [],
   "source": [
    "df['lat'] = pd.DataFrame(lat)\n",
    "df['lng'] = pd.DataFrame(lng)"
   ]
  },
  {
   "cell_type": "code",
   "execution_count": null,
   "metadata": {
    "collapsed": true
   },
   "outputs": [],
   "source": [
    "df.to_csv(\"../cancer_graphical_data/data/hospital_ranking.csv\", index=False)"
   ]
  },
  {
   "cell_type": "code",
   "execution_count": null,
   "metadata": {
    "collapsed": true
   },
   "outputs": [],
   "source": [
    "df.head()"
   ]
  },
  {
   "cell_type": "code",
   "execution_count": null,
   "metadata": {
    "collapsed": true
   },
   "outputs": [],
   "source": []
  }
 ],
 "metadata": {
  "kernelspec": {
   "display_name": "Python [conda env:PythonData]",
   "language": "python",
   "name": "pythondata"
  },
  "language_info": {
   "codemirror_mode": {
    "name": "ipython",
    "version": 3
   },
   "file_extension": ".py",
   "mimetype": "text/x-python",
   "name": "python",
   "nbconvert_exporter": "python",
   "pygments_lexer": "ipython3",
   "version": "3.6.3"
  }
 },
 "nbformat": 4,
 "nbformat_minor": 2
}
