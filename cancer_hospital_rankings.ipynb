{
 "cells": [
  {
   "cell_type": "code",
   "execution_count": 2,
   "metadata": {
    "collapsed": true
   },
   "outputs": [],
   "source": [
    "import pandas as pd \n",
    "from splinter import Browser\n",
    "from selenium import webdriver\n",
    "from bs4 import BeautifulSoup as bs\n",
    "import requests\n",
    "import numpy as np\n",
    "import json"
   ]
  },
  {
   "cell_type": "code",
   "execution_count": 3,
   "metadata": {},
   "outputs": [],
   "source": [
    "#Browser setup\n",
    "executable_path = {\"executable_path\": \"/usr/local/bin/chromedriver\"}\n",
    "browser = Browser(\"chrome\")"
   ]
  },
  {
   "cell_type": "code",
   "execution_count": 4,
   "metadata": {},
   "outputs": [],
   "source": [
    "base_url = \"https://health.usnews.com/best-hospitals/rankings/cancer?page=\"\n",
    "mini_url = \"https://health.usnews.com\""
   ]
  },
  {
   "cell_type": "code",
   "execution_count": 5,
   "metadata": {},
   "outputs": [],
   "source": [
    "soup = bs(browser.html, 'lxml')"
   ]
  },
  {
   "cell_type": "code",
   "execution_count": null,
   "metadata": {},
   "outputs": [],
   "source": [
    "list_ = [str(x) for x in list(range(1,10))]"
   ]
  },
  {
   "cell_type": "code",
   "execution_count": null,
   "metadata": {},
   "outputs": [],
   "source": [
    "for x in list_:\n",
    "    print(base_url + x)"
   ]
  },
  {
   "cell_type": "code",
   "execution_count": 6,
   "metadata": {},
   "outputs": [],
   "source": [
    "def dataframes(url):\n",
    "    city = []\n",
    "    browser.visit(url)\n",
    "    soup = bs(browser.html, 'lxml')\n",
    "    name = soup.find_all(\"h3\", class_=\"block-flush heading-large\")\n",
    "    ranking = soup.find_all(\"span\", class_=\"heading-small\")\n",
    "    score = soup.find_all(\"div\", class_=\"text-strong text-tighter\")\n",
    "    web = soup.find_all(class_=\"search-match-card-view\")\n",
    "    \n",
    "    names = [x.get_text(strip=True) for x in name]\n",
    "    rankings = [x.get_text(strip=True) for x in ranking]\n",
    "    scores = [x.get_text(strip=True) for x in score]\n",
    "    info = soup.find_all(\"div\", class_=\"block-tight\")\n",
    "    websites = [mini_url + x.a[\"href\"] for x in web]\n",
    "    \n",
    "    for x in range(0,len(info[1:-1]),2):\n",
    "        city.append(info[x].get_text(strip=True).split(\"|\")[-1])\n",
    "        \n",
    "    df_names = pd.DataFrame(names)\n",
    "    df_rankings = pd.DataFrame(rankings)\n",
    "    df_scores = pd.DataFrame(scores)\n",
    "    df_cities = pd.DataFrame(city[1:])\n",
    "    df_web = pd.DataFrame(websites)\n",
    "    \n",
    "    df_1 = pd.merge(df_names, df_rankings, left_index=True, right_index=True)\n",
    "    df_2 = pd.merge(df_1, df_scores, left_index=True, right_index=True)\n",
    "    df_3 = pd.merge(df_2, df_cities, left_index=True, right_index=True)\n",
    "    df = pd.merge(df_3, df_web, left_index=True, right_index=True)\n",
    "    df.columns = [\"name\", \"rank\", \"score\", \"cities\", \"websites\"]\n",
    "    return df"
   ]
  },
  {
   "cell_type": "code",
   "execution_count": 7,
   "metadata": {},
   "outputs": [],
   "source": [
    "p1 = dataframes(\"https://health.usnews.com/best-hospitals/rankings/cancer?page=1\")\n",
    "p2 = dataframes(\"https://health.usnews.com/best-hospitals/rankings/cancer?page=2\")\n",
    "p3 = dataframes(\"https://health.usnews.com/best-hospitals/rankings/cancer?page=3\")\n",
    "p4 = dataframes(\"https://health.usnews.com/best-hospitals/rankings/cancer?page=4\")\n",
    "p5 = dataframes(\"https://health.usnews.com/best-hospitals/rankings/cancer?page=5\")\n",
    "p6 = dataframes(\"https://health.usnews.com/best-hospitals/rankings/cancer?page=6\")\n",
    "p7 = dataframes(\"https://health.usnews.com/best-hospitals/rankings/cancer?page=7\")\n",
    "p8 = dataframes(\"https://health.usnews.com/best-hospitals/rankings/cancer?page=8\")\n",
    "p9 = dataframes(\"https://health.usnews.com/best-hospitals/rankings/cancer?page=9\")"
   ]
  },
  {
   "cell_type": "code",
   "execution_count": 8,
   "metadata": {},
   "outputs": [],
   "source": [
    "m1 = p1.append(p2, ignore_index=True)\n",
    "m2 = m1.append(p3, ignore_index=True)\n",
    "m3 = m2.append(p4, ignore_index=True)\n",
    "m4 = m3.append(p5, ignore_index=True)\n",
    "m5 = m4.append(p6, ignore_index=True)\n",
    "m6 = m5.append(p7, ignore_index=True)\n",
    "m7 = m6.append(p8, ignore_index=True)\n",
    "df = m7.append(p9, ignore_index=True)"
   ]
  },
  {
   "cell_type": "code",
   "execution_count": 30,
   "metadata": {},
   "outputs": [],
   "source": [
    "df[\"num_rank\"] = df.iloc[:,1].map(lambda x : x.split(' ')[0].split(\"#\")[-1])\n",
    "df[\"num_score\"] = df.iloc[:,2].map(lambda x : x.split(\"/\")[0])\n",
    "df['city_name'] = df.iloc[:,3].map(lambda x : x.split(',')[0])\n",
    "df['state'] = df.iloc[:,3].map(lambda x : x.split(',')[1].split(' ')[1])\n",
    "df['zipcode'] = df.iloc[:,3].map(lambda x : x.split(',')[1].split(' ')[2])\n",
    "df[\"num_rank\"] = df[\"num_rank\"].replace(\"High\", 0).astype(int)\n",
    "df[\"num_score\"] = df[\"num_score\"].astype(float)"
   ]
  },
  {
   "cell_type": "code",
   "execution_count": 10,
   "metadata": {},
   "outputs": [],
   "source": [
    "df[\"num_rank\"] = df[\"num_rank\"].replace(\"High\", 0).astype(int)\n",
    "df[\"num_score\"] = df[\"num_score\"].astype(float)"
   ]
  },
  {
   "cell_type": "code",
   "execution_count": 39,
   "metadata": {
    "collapsed": true
   },
   "outputs": [],
   "source": [
    "lat = []\n",
    "lng = []\n",
    "\n",
    "names = df['name'].tolist()\n",
    "\n",
    "for name in names:\n",
    "    target_city = name\n",
    "    target_url = ('https://maps.googleapis.com/maps/api/geocode/json?'\n",
    "        'address={0}&key={1}').format(target_city, gkey)\n",
    "\n",
    "    geo_data = requests.get(target_url).json()\n",
    "    lat.append(geo_data['results'][0]['geometry']['viewport']['northeast']['lat'])\n",
    "    lng.append(geo_data['results'][0]['geometry']['viewport']['northeast']['lng'])\n",
    "    "
   ]
  },
  {
   "cell_type": "code",
   "execution_count": 50,
   "metadata": {},
   "outputs": [],
   "source": [
    "df['lat'] = pd.DataFrame(lat)\n",
    "df['lng'] = pd.DataFrame(lng)"
   ]
  },
  {
   "cell_type": "code",
   "execution_count": 52,
   "metadata": {},
   "outputs": [],
   "source": [
    "df.to_csv(\"../cancer_graphical_data/data/hospital_ranking.csv\", index=False)"
   ]
  },
  {
   "cell_type": "code",
   "execution_count": 54,
   "metadata": {},
   "outputs": [
    {
     "data": {
      "text/html": [
       "<div>\n",
       "<style scoped>\n",
       "    .dataframe tbody tr th:only-of-type {\n",
       "        vertical-align: middle;\n",
       "    }\n",
       "\n",
       "    .dataframe tbody tr th {\n",
       "        vertical-align: top;\n",
       "    }\n",
       "\n",
       "    .dataframe thead th {\n",
       "        text-align: right;\n",
       "    }\n",
       "</style>\n",
       "<table border=\"1\" class=\"dataframe\">\n",
       "  <thead>\n",
       "    <tr style=\"text-align: right;\">\n",
       "      <th></th>\n",
       "      <th>name</th>\n",
       "      <th>rank</th>\n",
       "      <th>score</th>\n",
       "      <th>cities</th>\n",
       "      <th>websites</th>\n",
       "      <th>num_rank</th>\n",
       "      <th>num_score</th>\n",
       "      <th>city_name</th>\n",
       "      <th>state</th>\n",
       "      <th>zipcode</th>\n",
       "      <th>lng</th>\n",
       "      <th>lat</th>\n",
       "    </tr>\n",
       "  </thead>\n",
       "  <tbody>\n",
       "    <tr>\n",
       "      <th>0</th>\n",
       "      <td>University of Texas MD Anderson Cancer Center</td>\n",
       "      <td>#1 in Adult Cancer Hospitals</td>\n",
       "      <td>100.0/100</td>\n",
       "      <td>Houston, TX 77030-4000</td>\n",
       "      <td>https://health.usnews.com/best-hospitals/area/...</td>\n",
       "      <td>1</td>\n",
       "      <td>100.0</td>\n",
       "      <td>Houston</td>\n",
       "      <td>TX</td>\n",
       "      <td>77030-4000</td>\n",
       "      <td>-95.395714</td>\n",
       "      <td>29.707933</td>\n",
       "    </tr>\n",
       "    <tr>\n",
       "      <th>1</th>\n",
       "      <td>Memorial Sloan-Kettering Cancer Center</td>\n",
       "      <td>#2 in Adult Cancer Hospitals</td>\n",
       "      <td>97.4/100</td>\n",
       "      <td>New York, NY 10065-6007</td>\n",
       "      <td>https://health.usnews.com/best-hospitals/area/...</td>\n",
       "      <td>2</td>\n",
       "      <td>97.4</td>\n",
       "      <td>New York</td>\n",
       "      <td>NY</td>\n",
       "      <td>10065-6007</td>\n",
       "      <td>-73.954635</td>\n",
       "      <td>40.765450</td>\n",
       "    </tr>\n",
       "    <tr>\n",
       "      <th>2</th>\n",
       "      <td>Mayo Clinic</td>\n",
       "      <td>#3 in Adult Cancer Hospitals</td>\n",
       "      <td>95.3/100</td>\n",
       "      <td>Rochester, MN 55902-1906</td>\n",
       "      <td>https://health.usnews.com/best-hospitals/area/...</td>\n",
       "      <td>3</td>\n",
       "      <td>95.3</td>\n",
       "      <td>Rochester</td>\n",
       "      <td>MN</td>\n",
       "      <td>55902-1906</td>\n",
       "      <td>-81.439602</td>\n",
       "      <td>30.265439</td>\n",
       "    </tr>\n",
       "    <tr>\n",
       "      <th>3</th>\n",
       "      <td>Dana-Farber/Brigham and Women's Cancer Center</td>\n",
       "      <td>#4 in Adult Cancer Hospitals</td>\n",
       "      <td>83.0/100</td>\n",
       "      <td>Boston, MA 02215</td>\n",
       "      <td>https://health.usnews.com/best-hospitals/area/...</td>\n",
       "      <td>4</td>\n",
       "      <td>83.0</td>\n",
       "      <td>Boston</td>\n",
       "      <td>MA</td>\n",
       "      <td>02215</td>\n",
       "      <td>-71.106831</td>\n",
       "      <td>42.338800</td>\n",
       "    </tr>\n",
       "    <tr>\n",
       "      <th>4</th>\n",
       "      <td>Cleveland Clinic</td>\n",
       "      <td>#5 in Adult Cancer Hospitals</td>\n",
       "      <td>80.9/100</td>\n",
       "      <td>Cleveland, OH 44195-5108</td>\n",
       "      <td>https://health.usnews.com/best-hospitals/area/...</td>\n",
       "      <td>5</td>\n",
       "      <td>80.9</td>\n",
       "      <td>Cleveland</td>\n",
       "      <td>OH</td>\n",
       "      <td>44195-5108</td>\n",
       "      <td>-81.619631</td>\n",
       "      <td>41.504002</td>\n",
       "    </tr>\n",
       "  </tbody>\n",
       "</table>\n",
       "</div>"
      ],
      "text/plain": [
       "                                            name  \\\n",
       "0  University of Texas MD Anderson Cancer Center   \n",
       "1         Memorial Sloan-Kettering Cancer Center   \n",
       "2                                    Mayo Clinic   \n",
       "3  Dana-Farber/Brigham and Women's Cancer Center   \n",
       "4                               Cleveland Clinic   \n",
       "\n",
       "                           rank      score                    cities  \\\n",
       "0  #1 in Adult Cancer Hospitals  100.0/100    Houston, TX 77030-4000   \n",
       "1  #2 in Adult Cancer Hospitals   97.4/100   New York, NY 10065-6007   \n",
       "2  #3 in Adult Cancer Hospitals   95.3/100  Rochester, MN 55902-1906   \n",
       "3  #4 in Adult Cancer Hospitals   83.0/100          Boston, MA 02215   \n",
       "4  #5 in Adult Cancer Hospitals   80.9/100  Cleveland, OH 44195-5108   \n",
       "\n",
       "                                            websites num_rank num_score  \\\n",
       "0  https://health.usnews.com/best-hospitals/area/...        1     100.0   \n",
       "1  https://health.usnews.com/best-hospitals/area/...        2      97.4   \n",
       "2  https://health.usnews.com/best-hospitals/area/...        3      95.3   \n",
       "3  https://health.usnews.com/best-hospitals/area/...        4      83.0   \n",
       "4  https://health.usnews.com/best-hospitals/area/...        5      80.9   \n",
       "\n",
       "   city_name state     zipcode        lng        lat  \n",
       "0    Houston    TX  77030-4000 -95.395714  29.707933  \n",
       "1   New York    NY  10065-6007 -73.954635  40.765450  \n",
       "2  Rochester    MN  55902-1906 -81.439602  30.265439  \n",
       "3     Boston    MA       02215 -71.106831  42.338800  \n",
       "4  Cleveland    OH  44195-5108 -81.619631  41.504002  "
      ]
     },
     "execution_count": 54,
     "metadata": {},
     "output_type": "execute_result"
    }
   ],
   "source": [
    "df.head()"
   ]
  },
  {
   "cell_type": "code",
   "execution_count": null,
   "metadata": {
    "collapsed": true
   },
   "outputs": [],
   "source": []
  }
 ],
 "metadata": {
  "kernelspec": {
   "display_name": "Python [conda env:PythonData]",
   "language": "python",
   "name": "pythondata"
  }
 },
 "nbformat": 4,
 "nbformat_minor": 2
}
