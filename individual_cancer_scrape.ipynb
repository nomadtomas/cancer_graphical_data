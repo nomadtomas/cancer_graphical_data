{
 "cells": [
  {
   "cell_type": "code",
   "execution_count": 34,
   "metadata": {
    "collapsed": true
   },
   "outputs": [],
   "source": [
    "import pandas as pd \n",
    "from splinter import Browser\n",
    "from selenium import webdriver\n",
    "from bs4 import BeautifulSoup as bs\n",
    "import requests\n",
    "import numpy as np\n",
    "import pymongo"
   ]
  },
  {
   "cell_type": "code",
   "execution_count": 67,
   "metadata": {
    "collapsed": true
   },
   "outputs": [],
   "source": [
    "base_url = \"https://seer.cancer.gov/statfacts/html/\"\n",
    "bladder = \"urinb.html\"\n",
    "breast = \"breast.html\"\n",
    "coloretal = \"colorect.html\"\n",
    "kidney = \"kidrp.html\"\n",
    "leukemia = \"leuks.html\"\n",
    "lung = \"lungb.html\"\n",
    "melanoma = \"melan.html\"\n",
    "nhl = \"nhl.html\"\n",
    "pancreas = \"pancreas.html\"\n",
    "prostate = \"prost.html\"\n",
    "thyroid = \"thyro.html\"\n",
    "uterus = \"corp.html\""
   ]
  },
  {
   "cell_type": "code",
   "execution_count": 3,
   "metadata": {},
   "outputs": [],
   "source": [
    "most_common_cancers = pd.read_html(base_url + bladder)[2]"
   ]
  },
  {
   "cell_type": "code",
   "execution_count": null,
   "metadata": {},
   "outputs": [],
   "source": [
    "def cancerData(url):\n",
    "    male_newCases = pd.read_html(base_url + url)[3]\n",
    "    male_newCases.columns = ['race', 'male_new_num']\n",
    "    male_newCases.set_index('race', inplace=True)\n",
    "    female_newCases = pd.read_html(base_url + url)[4]\n",
    "    female_newCases.columns = ['race', 'female_new_num']\n",
    "    female_newCases.set_index('race', inplace=True)\n",
    "    gender_newCases = pd.merge(male_newCases, female_newCases, on='race')\n",
    "    male_deaths = pd.read_html(base_url + url)[6]\n",
    "    male_deaths.columns = ['race', 'male_death_num']\n",
    "    male_deaths.set_index('race', inplace=True)\n",
    "    death_case_rates = pd.merge(gender_newCases, male_deaths, on='race')\n",
    "    female_deaths = pd.read_html(base_url + url)[7]\n",
    "    female_deaths.columns = ['race', 'female_death_num']\n",
    "    female_deaths.set_index('race', inplace=True)\n",
    "    death_case_rates = pd.merge(death_case_rates, female_deaths, on='race')\n",
    "    death_case_rates['type'] = f'{url}'\n",
    "    \n",
    "    return death_case_rates"
   ]
  },
  {
   "cell_type": "code",
   "execution_count": null,
   "metadata": {},
   "outputs": [],
   "source": [
    "def leukemiaData(url):\n",
    "    male_newCases = pd.read_html(base_url + url)[2]\n",
    "    male_newCases.columns = ['race', 'male_new_num']\n",
    "    male_newCases.set_index('race', inplace=True)\n",
    "    female_newCases = pd.read_html(base_url + url)[3]\n",
    "    female_newCases.columns = ['race', 'female_new_num']\n",
    "    female_newCases.set_index('race', inplace=True)\n",
    "    gender_newCases = pd.merge(male_newCases, female_newCases, on='race')\n",
    "    male_deaths = pd.read_html(base_url + url)[5]\n",
    "    male_deaths.columns = ['race', 'male_death_num']\n",
    "    male_deaths.set_index('race', inplace=True)\n",
    "    death_case_rates = pd.merge(gender_newCases, male_deaths, on='race')\n",
    "    female_deaths = pd.read_html(base_url + url)[6]\n",
    "    female_deaths.columns = ['race', 'female_death_num']\n",
    "    female_deaths.set_index('race', inplace=True)\n",
    "    death_case_rates = pd.merge(death_case_rates, female_deaths, on='race')\n",
    "    death_case_rates['type'] = f'{url}'\n",
    "    \n",
    "    return death_case_rates"
   ]
  },
  {
   "cell_type": "code",
   "execution_count": 32,
   "metadata": {},
   "outputs": [],
   "source": [
    "def percentDeathsbyAge(url):\n",
    "    newCasebyAge = pd.read_html(base_url + url)[5]\n",
    "    newCasebyAge.set_index('Age Range', inplace= True)\n",
    "    newCasebyAge.iloc[:,-1] = newCasebyAge.iloc[:,-1].apply(lambda x:x.split(\"%\")[0]).astype(float)\n",
    "    deathsbyAge = pd.read_html(base_url + url)[8]\n",
    "    deathsbyAge.set_index('Age Range', inplace= True)\n",
    "    deathsbyAge.iloc[:,-1] = newCasebyAge.iloc[:,-1].apply(lambda x:x.split(\"%\")[0]).astype(float)\n",
    "    percentData = pd.merge(newCasebyAge, deathsbyAge, on=\"Age Range\")\n",
    "    percentData['type'] = f'{url}'\n",
    "    \n",
    "    return percentData"
   ]
  },
  {
   "cell_type": "code",
   "execution_count": null,
   "metadata": {},
   "outputs": [],
   "source": [
    "bladder = cancerData(bladder)"
   ]
  },
  {
   "cell_type": "code",
   "execution_count": null,
   "metadata": {},
   "outputs": [],
   "source": [
    "bladder['type_name'] = 'bladder'\n",
    "bladder['male_pct_deaths'] = bladder['male_death_num']/bladder['male_new_num'] * 100\n",
    "bladder['female_pct_deaths'] = bladder['female_death_num']/bladder['female_new_num'] * 100"
   ]
  },
  {
   "cell_type": "code",
   "execution_count": 6,
   "metadata": {},
   "outputs": [],
   "source": [
    "def getFacts(url): \n",
    "    id_ = (base_url + url)\n",
    "    response = requests.get(id_)\n",
    "    soup = bs(response.text, 'lxml')\n",
    "    medianAgeAtDiagnosis = soup.find_all(class_=\"statBox statSurv\")[0].strong.get_text()\n",
    "    medianAgeAtDeath = soup.find_all(class_=\"statBox statDie\")[0].strong.get_text()\n",
    "    pctUSCases = soup.find_all(class_=\"asideText\")[0].get_text()\n",
    "    freqDiag = soup.find_all(class_=\"asideText\")[1].get_text()\n",
    "    freqDeaths = soup.find_all(class_=\"asideText\")[2].get_text()\n",
    "    df = pd.DataFrame([{\n",
    "        'medianAgeAtDiagnosis': medianAgeAtDiagnosis,\n",
    "        'medianAgeAtDeath': medianAgeAtDeath,\n",
    "        'pctUSCases': pctUSCases,\n",
    "        'freqDiag': freqDiag,\n",
    "        'freqDeaths': freqDeaths\n",
    "    }])\n",
    "    return df"
   ]
  },
  {
   "cell_type": "code",
   "execution_count": null,
   "metadata": {},
   "outputs": [],
   "source": [
    "breast= cancerData(breast)"
   ]
  },
  {
   "cell_type": "code",
   "execution_count": null,
   "metadata": {},
   "outputs": [],
   "source": [
    "breast.iloc[:,0] = np.nan\n",
    "breast.iloc[:,2] = np.nan"
   ]
  },
  {
   "cell_type": "code",
   "execution_count": null,
   "metadata": {},
   "outputs": [],
   "source": [
    "breast['type_name'] = 'breast'\n",
    "breast['male_pct_deaths'] = np.nan\n",
    "breast['female_pct_deaths'] = breast['female_death_num']/breast['female_new_num'] * 100"
   ]
  },
  {
   "cell_type": "code",
   "execution_count": null,
   "metadata": {
    "collapsed": true
   },
   "outputs": [],
   "source": [
    "coloretal = cancerData(coloretal)\n",
    "coloretal['type_name'] = 'coloretal'"
   ]
  },
  {
   "cell_type": "code",
   "execution_count": null,
   "metadata": {},
   "outputs": [],
   "source": [
    "coloretal['male_pct_deaths'] = coloretal['male_death_num']/coloretal['male_new_num'] * 100\n",
    "coloretal['female_pct_deaths'] = coloretal['female_death_num']/coloretal['female_new_num'] * 100"
   ]
  },
  {
   "cell_type": "code",
   "execution_count": null,
   "metadata": {},
   "outputs": [],
   "source": [
    "coloretal"
   ]
  },
  {
   "cell_type": "code",
   "execution_count": null,
   "metadata": {},
   "outputs": [],
   "source": [
    "kidney = cancerData(kidney)"
   ]
  },
  {
   "cell_type": "code",
   "execution_count": null,
   "metadata": {},
   "outputs": [],
   "source": [
    "kidney['type_name'] = 'kidney'\n",
    "kidney['male_pct_deaths'] = kidney['male_death_num']/kidney['male_new_num'] * 100\n",
    "kidney['female_pct_deaths'] = kidney['female_death_num']/kidney['female_new_num'] * 100"
   ]
  },
  {
   "cell_type": "code",
   "execution_count": null,
   "metadata": {},
   "outputs": [],
   "source": [
    "leukemia = leukemiaData(leukemia)"
   ]
  },
  {
   "cell_type": "code",
   "execution_count": null,
   "metadata": {},
   "outputs": [],
   "source": [
    "leukemia['type_name'] = 'leukemia'\n",
    "leukemia['male_pct_deaths'] = leukemia['male_death_num']/leukemia['male_new_num'] * 100\n",
    "leukemia['female_pct_deaths'] = leukemia['female_death_num']/leukemia['female_new_num'] * 100"
   ]
  },
  {
   "cell_type": "code",
   "execution_count": null,
   "metadata": {},
   "outputs": [],
   "source": [
    "leukemia"
   ]
  },
  {
   "cell_type": "code",
   "execution_count": null,
   "metadata": {},
   "outputs": [],
   "source": [
    "lung = cancerData(lung)"
   ]
  },
  {
   "cell_type": "code",
   "execution_count": null,
   "metadata": {},
   "outputs": [],
   "source": [
    "lung['type_name'] = 'lung'\n",
    "lung['male_pct_deaths'] = lung['male_death_num']/lung['male_new_num'] * 100\n",
    "lung['female_pct_deaths'] = lung['female_death_num']/lung['female_new_num'] * 100"
   ]
  },
  {
   "cell_type": "code",
   "execution_count": null,
   "metadata": {
    "collapsed": true
   },
   "outputs": [],
   "source": [
    "melanoma = cancerData(melanoma)"
   ]
  },
  {
   "cell_type": "code",
   "execution_count": null,
   "metadata": {
    "collapsed": true
   },
   "outputs": [],
   "source": [
    "melanoma['type_name'] = 'melanoma'\n",
    "melanoma['male_pct_deaths'] = melanoma['male_death_num']/melanoma['male_new_num'] * 100\n",
    "melanoma['female_pct_deaths'] = melanoma['female_death_num']/melanoma['female_new_num'] * 100"
   ]
  },
  {
   "cell_type": "code",
   "execution_count": null,
   "metadata": {},
   "outputs": [],
   "source": []
  },
  {
   "cell_type": "code",
   "execution_count": null,
   "metadata": {
    "collapsed": true
   },
   "outputs": [],
   "source": [
    "nhl = cancerData(nhl)"
   ]
  },
  {
   "cell_type": "code",
   "execution_count": null,
   "metadata": {
    "collapsed": true
   },
   "outputs": [],
   "source": [
    "nhl['type_name'] = 'nhl'\n",
    "nhl['male_pct_deaths'] = nhl['male_death_num']/nhl['male_new_num'] * 100\n",
    "nhl['female_pct_deaths'] = nhl['female_death_num']/nhl['female_new_num'] * 100"
   ]
  },
  {
   "cell_type": "code",
   "execution_count": null,
   "metadata": {},
   "outputs": [],
   "source": [
    "pancreas = cancerData(pancreas)"
   ]
  },
  {
   "cell_type": "code",
   "execution_count": null,
   "metadata": {
    "collapsed": true
   },
   "outputs": [],
   "source": [
    "pancreas['type_name'] = 'pancreas'\n",
    "pancreas['male_pct_deaths'] = pancreas['male_death_num']/pancreas['male_new_num'] * 100\n",
    "pancreas['female_pct_deaths'] = pancreas['female_death_num']/pancreas['female_new_num'] * 100"
   ]
  },
  {
   "cell_type": "code",
   "execution_count": null,
   "metadata": {
    "collapsed": true
   },
   "outputs": [],
   "source": [
    "prostate = cancerData(prostate)"
   ]
  },
  {
   "cell_type": "code",
   "execution_count": null,
   "metadata": {},
   "outputs": [],
   "source": [
    "prostate.iloc[:,1] =  np.nan\n",
    "prostate.iloc[:,3] = np.nan"
   ]
  },
  {
   "cell_type": "code",
   "execution_count": null,
   "metadata": {},
   "outputs": [],
   "source": [
    "prostate['type_name'] = 'prostate'\n",
    "prostate['male_pct_deaths'] = prostate['male_death_num']/prostate['male_new_num'] * 100\n",
    "prostate['female_pct_deaths'] = np.nan"
   ]
  },
  {
   "cell_type": "code",
   "execution_count": null,
   "metadata": {},
   "outputs": [],
   "source": [
    "prostate"
   ]
  },
  {
   "cell_type": "code",
   "execution_count": null,
   "metadata": {
    "collapsed": true
   },
   "outputs": [],
   "source": [
    "thyroid = cancerData(thyroid)"
   ]
  },
  {
   "cell_type": "code",
   "execution_count": null,
   "metadata": {
    "collapsed": true
   },
   "outputs": [],
   "source": [
    "thyroid['type_name'] = 'thyroid'\n",
    "thyroid['male_pct_deaths'] = thyroid['male_death_num']/thyroid['male_new_num'] * 100\n",
    "thyroid['female_pct_deaths'] = thyroid['female_death_num']/thyroid['female_new_num'] * 100"
   ]
  },
  {
   "cell_type": "code",
   "execution_count": null,
   "metadata": {},
   "outputs": [],
   "source": [
    "thyroid"
   ]
  },
  {
   "cell_type": "code",
   "execution_count": null,
   "metadata": {
    "collapsed": true
   },
   "outputs": [],
   "source": [
    "uterus = cancerData(uterus)"
   ]
  },
  {
   "cell_type": "code",
   "execution_count": null,
   "metadata": {},
   "outputs": [],
   "source": [
    "uterus.iloc[:,0] =  np.nan\n",
    "uterus.iloc[:,2] = np.nan"
   ]
  },
  {
   "cell_type": "code",
   "execution_count": null,
   "metadata": {},
   "outputs": [],
   "source": [
    "uterus['type_name'] = 'uterus'\n",
    "uterus['male_pct_deaths'] = np.nan\n",
    "uterus['female_pct_deaths'] = uterus['female_death_num']/uterus['female_new_num'] * 100"
   ]
  },
  {
   "cell_type": "code",
   "execution_count": null,
   "metadata": {},
   "outputs": [],
   "source": [
    "uterus"
   ]
  },
  {
   "cell_type": "code",
   "execution_count": null,
   "metadata": {},
   "outputs": [],
   "source": [
    "df = pd.DataFrame([])"
   ]
  },
  {
   "cell_type": "code",
   "execution_count": null,
   "metadata": {},
   "outputs": [],
   "source": [
    "bladder.reset_index(inplace=True)\n",
    "breast.reset_index(inplace=True)\n",
    "coloretal.reset_index(inplace=True)\n",
    "kidney.reset_index(inplace=True)\n",
    "leukemia.reset_index(inplace=True)\n",
    "lung.reset_index(inplace=True)\n",
    "melanoma.reset_index(inplace=True)\n",
    "nhl.reset_index(inplace=True)\n",
    "pancreas.reset_index(inplace=True)\n",
    "prostate.reset_index(inplace=True)\n",
    "thyroid.reset_index(inplace=True)\n",
    "uterus.reset_index(inplace=True)"
   ]
  },
  {
   "cell_type": "code",
   "execution_count": null,
   "metadata": {},
   "outputs": [],
   "source": [
    "results = pd.concat(frames, sort=True)"
   ]
  },
  {
   "cell_type": "code",
   "execution_count": null,
   "metadata": {},
   "outputs": [],
   "source": [
    "demographic_df = results.reset_index(drop=True)"
   ]
  },
  {
   "cell_type": "code",
   "execution_count": null,
   "metadata": {},
   "outputs": [],
   "source": [
    "demographic_df.sort_values(['male_death_num','type'], ascending=False)"
   ]
  },
  {
   "cell_type": "code",
   "execution_count": null,
   "metadata": {},
   "outputs": [],
   "source": [
    "a = demographic_df.set_index('race')"
   ]
  },
  {
   "cell_type": "code",
   "execution_count": null,
   "metadata": {},
   "outputs": [],
   "source": [
    "a"
   ]
  },
  {
   "cell_type": "code",
   "execution_count": null,
   "metadata": {},
   "outputs": [],
   "source": [
    "a.sort_values(['male_pct_deaths'], ascending=False)"
   ]
  },
  {
   "cell_type": "code",
   "execution_count": null,
   "metadata": {
    "collapsed": true
   },
   "outputs": [],
   "source": [
    "conn = \"mongodb://localhost:27017\"\n",
    "client = pymongo.MongoClient(conn)"
   ]
  },
  {
   "cell_type": "code",
   "execution_count": null,
   "metadata": {},
   "outputs": [],
   "source": [
    "conn = \"mongodb://localhost:27017\"\n",
    "client = pymongo.MongoClient(conn)\n",
    "\n",
    "# Define database and collection\n",
    "db = client.demographic_db\n",
    "collection = db.items\n",
    "\n",
    "def transform_data(row):\n",
    "    data = row.to_dict()\n",
    "    collection.insert_one(data)\n",
    "    \n",
    "#df = df.reset_index()\n",
    "demographic_df.apply(transform_data, axis=1) "
   ]
  },
  {
   "cell_type": "code",
   "execution_count": null,
   "metadata": {},
   "outputs": [],
   "source": [
    "results.to_csv(\"data/demographics.csv\")"
   ]
  },
  {
   "cell_type": "code",
   "execution_count": null,
   "metadata": {},
   "outputs": [],
   "source": []
  },
  {
   "cell_type": "code",
   "execution_count": null,
   "metadata": {},
   "outputs": [],
   "source": [
    "pd.read_html(base_url + bladder)[5]"
   ]
  },
  {
   "cell_type": "code",
   "execution_count": null,
   "metadata": {
    "collapsed": true
   },
   "outputs": [],
   "source": [
    "most_common_cancers.to_csv(\"data/most_common_cancer_table.csv\")"
   ]
  },
  {
   "cell_type": "code",
   "execution_count": null,
   "metadata": {},
   "outputs": [],
   "source": [
    "percentDeathsbyAge(bladder)"
   ]
  },
  {
   "cell_type": "code",
   "execution_count": null,
   "metadata": {},
   "outputs": [],
   "source": [
    "deathsbyAge = pd.read_html(base_url + bladder)[8]\n",
    "deathsbyAge.set_index('Age Range', inplace= True)\n",
    "deathsbyAge"
   ]
  },
  {
   "cell_type": "code",
   "execution_count": 7,
   "metadata": {},
   "outputs": [],
   "source": [
    "bladder = getFacts(bladder)\n",
    "breast = getFacts(breast)\n",
    "coloretal = getFacts(coloretal)\n",
    "kidney = getFacts(kidney)\n",
    "leukemia = getFacts(leukemia)\n",
    "lung = getFacts(lung)\n",
    "melanoma = getFacts(melanoma)\n",
    "nhl = getFacts(nhl)\n",
    "pancreas = getFacts(pancreas)\n",
    "prostate = getFacts(prostate)\n",
    "thyroid = getFacts(thyroid)\n",
    "uterus = getFacts(uterus)"
   ]
  },
  {
   "cell_type": "code",
   "execution_count": 81,
   "metadata": {},
   "outputs": [],
   "source": [
    "bladder['type_name'] = 'bladder'\n",
    "breast['type_name'] = 'breast'\n",
    "coloretal['type_name'] = 'coloretal'\n",
    "kidney['type_name'] = 'kidney'\n",
    "leukemia['type_name'] = 'leukemia'\n",
    "lung['type_name'] = 'lung'\n",
    "melanoma['type_name'] = 'melanoma'\n",
    "nhl['type_name'] = 'nhl'\n",
    "pancreas['type_name'] = 'pancreas'\n",
    "prostate['type_name'] = 'prostate'\n",
    "thyroid['type_name'] = 'thyroid'\n",
    "uterus['type_name'] = 'uterus'"
   ]
  },
  {
   "cell_type": "code",
   "execution_count": 11,
   "metadata": {},
   "outputs": [],
   "source": [
    "factResults = pd.concat(frames, sort=True)"
   ]
  },
  {
   "cell_type": "code",
   "execution_count": 78,
   "metadata": {
    "collapsed": true
   },
   "outputs": [],
   "source": [
    "frames = [bladder, breast, coloretal, kidney, leukemia, lung, melanoma, \n",
    "         nhl, pancreas, prostate, thyroid, uterus]"
   ]
  },
  {
   "cell_type": "code",
   "execution_count": 24,
   "metadata": {},
   "outputs": [],
   "source": [
    "factResults['medianAgeAtDeath'] = factResults['medianAgeAtDeath'].astype(float)"
   ]
  },
  {
   "cell_type": "code",
   "execution_count": 28,
   "metadata": {},
   "outputs": [],
   "source": [
    "factResults['medianAgeAtDiagnosis'] = factResults['medianAgeAtDiagnosis'].astype(float)"
   ]
  },
  {
   "cell_type": "code",
   "execution_count": 74,
   "metadata": {},
   "outputs": [],
   "source": [
    "def percentDeathsbyAge(url):\n",
    "    newCasebyAge = pd.read_html(base_url + url)[4]\n",
    "    newCasebyAge.set_index('Age Range', inplace= True)\n",
    "    newCasebyAge.iloc[:,-1] = newCasebyAge.iloc[:,-1].apply(lambda x:x.split(\"%\")[0])\n",
    "    deathsbyAge = pd.read_html(base_url + url)[7]\n",
    "    deathsbyAge.set_index('Age Range', inplace= True)\n",
    "    deathsbyAge.iloc[:,-1] = newCasebyAge.iloc[:,-1].apply(lambda x:x.split(\"%\")[0])\n",
    "    percentData = pd.merge(newCasebyAge, deathsbyAge, on=\"Age Range\")\n",
    "    percentData['type'] = f'{url}'\n",
    "    \n",
    "    return newCasebyAge"
   ]
  },
  {
   "cell_type": "code",
   "execution_count": 75,
   "metadata": {},
   "outputs": [],
   "source": [
    "leukemia = percentDeathsbyAge(leukemia)"
   ]
  },
  {
   "cell_type": "code",
   "execution_count": 68,
   "metadata": {},
   "outputs": [],
   "source": [
    "bladder = percentDeathsbyAge(bladder)\n",
    "breast = percentDeathsbyAge(breast)\n",
    "coloretal = percentDeathsbyAge(coloretal)\n",
    "kidney = percentDeathsbyAge(kidney)\n",
    "# leukemia = percentDeathsbyAge(leukemia)\n",
    "lung = percentDeathsbyAge(lung)\n",
    "melanoma = percentDeathsbyAge(melanoma)\n",
    "nhl = percentDeathsbyAge(nhl)\n",
    "pancreas = percentDeathsbyAge(pancreas)\n",
    "prostate = percentDeathsbyAge(prostate)\n",
    "thyroid = percentDeathsbyAge(thyroid)\n",
    "uterus = percentDeathsbyAge(uterus)"
   ]
  },
  {
   "cell_type": "code",
   "execution_count": 82,
   "metadata": {
    "collapsed": true
   },
   "outputs": [],
   "source": [
    "pctbyAge = pd.concat(frames, sort=True)"
   ]
  },
  {
   "cell_type": "code",
   "execution_count": 100,
   "metadata": {},
   "outputs": [],
   "source": [
    "pctbyAge= pctbyAge.reset_index(drop=False)"
   ]
  },
  {
   "cell_type": "code",
   "execution_count": 104,
   "metadata": {
    "collapsed": true
   },
   "outputs": [],
   "source": [
    "pctbyAge.to_csv(\"data/pctbyAge.csv\", index=False)"
   ]
  },
  {
   "cell_type": "code",
   "execution_count": 106,
   "metadata": {},
   "outputs": [],
   "source": [
    "factResults.to_csv(\"data/factResults.csv\", index=False)"
   ]
  },
  {
   "cell_type": "code",
   "execution_count": null,
   "metadata": {
    "collapsed": true
   },
   "outputs": [],
   "source": []
  }
 ],
 "metadata": {
  "kernelspec": {
   "display_name": "Python [conda env:PythonData]",
   "language": "python",
   "name": "pythondata"
  },
  "language_info": {
   "codemirror_mode": {
    "name": "ipython",
    "version": 3
   },
   "file_extension": ".py",
   "mimetype": "text/x-python",
   "name": "python",
   "nbconvert_exporter": "python",
   "pygments_lexer": "ipython3",
   "version": "3.6.3"
  }
 },
 "nbformat": 4,
 "nbformat_minor": 2
}
