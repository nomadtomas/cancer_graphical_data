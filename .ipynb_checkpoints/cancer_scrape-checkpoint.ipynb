{
 "cells": [
  {
   "cell_type": "code",
   "execution_count": 1,
   "metadata": {
    "collapsed": true
   },
   "outputs": [],
   "source": [
    "import pandas as pd \n",
    "from splinter import Browser\n",
    "from selenium import webdriver\n",
    "from bs4 import BeautifulSoup as bs\n",
    "import requests\n",
    "import numpy as np\n",
    "import pymongo"
   ]
  },
  {
   "cell_type": "code",
   "execution_count": 2,
   "metadata": {},
   "outputs": [
    {
     "name": "stdout",
     "output_type": "stream",
     "text": [
      "https://seer.cancer.gov/statfacts/html/common.html\n"
     ]
    }
   ],
   "source": [
    "url = \"https://seer.cancer.gov/statfacts/html/common.html\"\n",
    "print(url)"
   ]
  },
  {
   "cell_type": "code",
   "execution_count": 3,
   "metadata": {
    "collapsed": true
   },
   "outputs": [],
   "source": [
    "response = requests.get(url)"
   ]
  },
  {
   "cell_type": "code",
   "execution_count": 4,
   "metadata": {
    "collapsed": true
   },
   "outputs": [],
   "source": [
    "soup = bs(response.text, 'lxml')"
   ]
  },
  {
   "cell_type": "code",
   "execution_count": 5,
   "metadata": {},
   "outputs": [
    {
     "data": {
      "text/html": [
       "<div>\n",
       "<style scoped>\n",
       "    .dataframe tbody tr th:only-of-type {\n",
       "        vertical-align: middle;\n",
       "    }\n",
       "\n",
       "    .dataframe tbody tr th {\n",
       "        vertical-align: top;\n",
       "    }\n",
       "\n",
       "    .dataframe thead th {\n",
       "        text-align: right;\n",
       "    }\n",
       "</style>\n",
       "<table border=\"1\" class=\"dataframe\">\n",
       "  <thead>\n",
       "    <tr style=\"text-align: right;\">\n",
       "      <th></th>\n",
       "      <th>cancer_type</th>\n",
       "      <th>number</th>\n",
       "      <th>percent</th>\n",
       "      <th>type</th>\n",
       "    </tr>\n",
       "  </thead>\n",
       "  <tbody>\n",
       "    <tr>\n",
       "      <th>0</th>\n",
       "      <td>Breast</td>\n",
       "      <td>271,270</td>\n",
       "      <td>(15%)</td>\n",
       "      <td>New Cancer Cases 2019</td>\n",
       "    </tr>\n",
       "    <tr>\n",
       "      <th>1</th>\n",
       "      <td>Lung &amp; Bronchus</td>\n",
       "      <td>228,150</td>\n",
       "      <td>(13%)</td>\n",
       "      <td>New Cancer Cases 2019</td>\n",
       "    </tr>\n",
       "    <tr>\n",
       "      <th>2</th>\n",
       "      <td>Prostate</td>\n",
       "      <td>174,650</td>\n",
       "      <td>(10%)</td>\n",
       "      <td>New Cancer Cases 2019</td>\n",
       "    </tr>\n",
       "    <tr>\n",
       "      <th>3</th>\n",
       "      <td>Colon and rectum</td>\n",
       "      <td>145,600</td>\n",
       "      <td>(8%)</td>\n",
       "      <td>New Cancer Cases 2019</td>\n",
       "    </tr>\n",
       "    <tr>\n",
       "      <th>4</th>\n",
       "      <td>Other</td>\n",
       "      <td>942,780</td>\n",
       "      <td>(53%)</td>\n",
       "      <td>New Cancer Cases 2019</td>\n",
       "    </tr>\n",
       "  </tbody>\n",
       "</table>\n",
       "</div>"
      ],
      "text/plain": [
       "        cancer_type   number percent                   type\n",
       "0            Breast  271,270   (15%)  New Cancer Cases 2019\n",
       "1   Lung & Bronchus  228,150   (13%)  New Cancer Cases 2019\n",
       "2          Prostate  174,650   (10%)  New Cancer Cases 2019\n",
       "3  Colon and rectum  145,600    (8%)  New Cancer Cases 2019\n",
       "4             Other  942,780   (53%)  New Cancer Cases 2019"
      ]
     },
     "execution_count": 5,
     "metadata": {},
     "output_type": "execute_result"
    }
   ],
   "source": [
    "new_cancer = pd.read_html(url)[0]\n",
    "b = pd.DataFrame(new_cancer[0])\n",
    "split_data = [x.split(' ') for x in new_cancer[1]]\n",
    "a = pd.DataFrame(split_data)\n",
    "new_cancer = pd.merge(b, a, how='left', left_index=True, right_index=True)\n",
    "new_cancer.columns = ['cancer_type', 'number', 'percent']\n",
    "new_cancer['type'] = 'New Cancer Cases 2019'\n",
    "new_cancer"
   ]
  },
  {
   "cell_type": "code",
   "execution_count": null,
   "metadata": {},
   "outputs": [],
   "source": [
    "pd.read_html(url)"
   ]
  },
  {
   "cell_type": "code",
   "execution_count": null,
   "metadata": {
    "collapsed": true
   },
   "outputs": [],
   "source": [
    "new_cancer"
   ]
  },
  {
   "cell_type": "code",
   "execution_count": 6,
   "metadata": {
    "collapsed": true
   },
   "outputs": [],
   "source": [
    "cancer_deaths = pd.read_html(url)[1]\n",
    "b = pd.DataFrame(cancer_deaths[0])\n",
    "split_data = [x.split(' ') for x in cancer_deaths[1]]\n",
    "a = pd.DataFrame(split_data)\n",
    "cancer_deaths = pd.merge(b, a, how='left', left_index=True, right_index=True)\n",
    "cancer_deaths.columns = ['cancer_type', 'number', 'percent']\n",
    "cancer_deaths['type'] = 'Cancer Deaths 2019'"
   ]
  },
  {
   "cell_type": "code",
   "execution_count": 7,
   "metadata": {},
   "outputs": [
    {
     "data": {
      "text/html": [
       "<div>\n",
       "<style scoped>\n",
       "    .dataframe tbody tr th:only-of-type {\n",
       "        vertical-align: middle;\n",
       "    }\n",
       "\n",
       "    .dataframe tbody tr th {\n",
       "        vertical-align: top;\n",
       "    }\n",
       "\n",
       "    .dataframe thead th {\n",
       "        text-align: right;\n",
       "    }\n",
       "</style>\n",
       "<table border=\"1\" class=\"dataframe\">\n",
       "  <thead>\n",
       "    <tr style=\"text-align: right;\">\n",
       "      <th></th>\n",
       "      <th>cancer_type</th>\n",
       "      <th>number</th>\n",
       "      <th>percent</th>\n",
       "      <th>type</th>\n",
       "    </tr>\n",
       "  </thead>\n",
       "  <tbody>\n",
       "    <tr>\n",
       "      <th>0</th>\n",
       "      <td>Lung &amp; Bronchus</td>\n",
       "      <td>142,670</td>\n",
       "      <td>(24%)</td>\n",
       "      <td>Cancer Deaths 2019</td>\n",
       "    </tr>\n",
       "    <tr>\n",
       "      <th>1</th>\n",
       "      <td>Colon and rectum</td>\n",
       "      <td>51,020</td>\n",
       "      <td>(8%)</td>\n",
       "      <td>Cancer Deaths 2019</td>\n",
       "    </tr>\n",
       "    <tr>\n",
       "      <th>2</th>\n",
       "      <td>Pancreas</td>\n",
       "      <td>45,750</td>\n",
       "      <td>(8%)</td>\n",
       "      <td>Cancer Deaths 2019</td>\n",
       "    </tr>\n",
       "    <tr>\n",
       "      <th>3</th>\n",
       "      <td>Breast</td>\n",
       "      <td>42,260</td>\n",
       "      <td>(7%)</td>\n",
       "      <td>Cancer Deaths 2019</td>\n",
       "    </tr>\n",
       "    <tr>\n",
       "      <th>4</th>\n",
       "      <td>Other</td>\n",
       "      <td>325,180</td>\n",
       "      <td>(54%)</td>\n",
       "      <td>Cancer Deaths 2019</td>\n",
       "    </tr>\n",
       "  </tbody>\n",
       "</table>\n",
       "</div>"
      ],
      "text/plain": [
       "        cancer_type   number percent                type\n",
       "0   Lung & Bronchus  142,670   (24%)  Cancer Deaths 2019\n",
       "1  Colon and rectum   51,020    (8%)  Cancer Deaths 2019\n",
       "2          Pancreas   45,750    (8%)  Cancer Deaths 2019\n",
       "3            Breast   42,260    (7%)  Cancer Deaths 2019\n",
       "4             Other  325,180   (54%)  Cancer Deaths 2019"
      ]
     },
     "execution_count": 7,
     "metadata": {},
     "output_type": "execute_result"
    }
   ],
   "source": [
    "cancer_deaths"
   ]
  },
  {
   "cell_type": "code",
   "execution_count": 8,
   "metadata": {},
   "outputs": [
    {
     "data": {
      "text/html": [
       "<div>\n",
       "<style scoped>\n",
       "    .dataframe tbody tr th:only-of-type {\n",
       "        vertical-align: middle;\n",
       "    }\n",
       "\n",
       "    .dataframe tbody tr th {\n",
       "        vertical-align: top;\n",
       "    }\n",
       "\n",
       "    .dataframe thead th {\n",
       "        text-align: right;\n",
       "    }\n",
       "</style>\n",
       "<table border=\"1\" class=\"dataframe\">\n",
       "  <thead>\n",
       "    <tr style=\"text-align: right;\">\n",
       "      <th></th>\n",
       "      <th>cancer_type</th>\n",
       "      <th>number</th>\n",
       "      <th>type</th>\n",
       "    </tr>\n",
       "  </thead>\n",
       "  <tbody>\n",
       "    <tr>\n",
       "      <th>0</th>\n",
       "      <td>Breast</td>\n",
       "      <td>2670</td>\n",
       "      <td>Diagnosed Male</td>\n",
       "    </tr>\n",
       "    <tr>\n",
       "      <th>1</th>\n",
       "      <td>Lung &amp; Bronchus</td>\n",
       "      <td>116440</td>\n",
       "      <td>Diagnosed Male</td>\n",
       "    </tr>\n",
       "    <tr>\n",
       "      <th>2</th>\n",
       "      <td>Prostate</td>\n",
       "      <td>174650</td>\n",
       "      <td>Diagnosed Male</td>\n",
       "    </tr>\n",
       "    <tr>\n",
       "      <th>3</th>\n",
       "      <td>Colorectal</td>\n",
       "      <td>78500</td>\n",
       "      <td>Diagnosed Male</td>\n",
       "    </tr>\n",
       "    <tr>\n",
       "      <th>4</th>\n",
       "      <td>Melanoma of the Skin</td>\n",
       "      <td>57220</td>\n",
       "      <td>Diagnosed Male</td>\n",
       "    </tr>\n",
       "  </tbody>\n",
       "</table>\n",
       "</div>"
      ],
      "text/plain": [
       "            cancer_type  number            type\n",
       "0                Breast    2670  Diagnosed Male\n",
       "1       Lung & Bronchus  116440  Diagnosed Male\n",
       "2              Prostate  174650  Diagnosed Male\n",
       "3            Colorectal   78500  Diagnosed Male\n",
       "4  Melanoma of the Skin   57220  Diagnosed Male"
      ]
     },
     "execution_count": 8,
     "metadata": {},
     "output_type": "execute_result"
    }
   ],
   "source": [
    "diagnosed_male = pd.read_html(url)[2]\n",
    "diagnosed_male.columns = ['cancer_type', 'number']\n",
    "diagnosed_male['type'] = 'Diagnosed Male'\n",
    "diagnosed_male.head()"
   ]
  },
  {
   "cell_type": "code",
   "execution_count": null,
   "metadata": {},
   "outputs": [],
   "source": [
    "diagnosed_female = pd.read_html(url)[3]\n",
    "diagnosed_female.columns = ['cancer_type', 'number']\n",
    "diagnosed_female['type'] = 'Diagnosed Female'\n",
    "diagnosed_female.head()"
   ]
  },
  {
   "cell_type": "code",
   "execution_count": null,
   "metadata": {
    "collapsed": true
   },
   "outputs": [],
   "source": [
    "die_male = pd.read_html(url)[4]\n",
    "die_male.columns = ['cancer_type', 'number']\n",
    "die_male['type'] = 'Die Male'\n",
    "die_male.head()"
   ]
  },
  {
   "cell_type": "code",
   "execution_count": null,
   "metadata": {
    "collapsed": true
   },
   "outputs": [],
   "source": [
    "die_female = pd.read_html(url)[5]\n",
    "die_female.columns = ['cancer_type', 'number']\n",
    "die_female['type'] = 'Die Female'\n",
    "die_female.head()"
   ]
  },
  {
   "cell_type": "code",
   "execution_count": null,
   "metadata": {
    "collapsed": true
   },
   "outputs": [],
   "source": [
    "both_cancer_rates = pd.read_html(url)[6]\n",
    "both_cancer_rates['type'] = 'Both'\n",
    "both_cancer_rates.head()"
   ]
  },
  {
   "cell_type": "code",
   "execution_count": null,
   "metadata": {
    "collapsed": true,
    "scrolled": true
   },
   "outputs": [],
   "source": [
    "female_cancer_rates = pd.read_html(url)[7]\n",
    "female_cancer_rates['type'] = 'Female'\n",
    "female_cancer_rates.head()"
   ]
  },
  {
   "cell_type": "code",
   "execution_count": null,
   "metadata": {
    "collapsed": true
   },
   "outputs": [],
   "source": [
    "male_cancer_rates = pd.read_html(url)[8]\n",
    "male_cancer_rates['type'] = 'Male'\n",
    "male_cancer_rates.head()"
   ]
  },
  {
   "cell_type": "code",
   "execution_count": null,
   "metadata": {
    "collapsed": true
   },
   "outputs": [],
   "source": [
    "most_common_cancer_by_race = pd.read_html(url)[9]\n",
    "most_common_cancer_by_race.head()"
   ]
  },
  {
   "cell_type": "code",
   "execution_count": null,
   "metadata": {
    "collapsed": true
   },
   "outputs": [],
   "source": [
    "mortality_rates_by_race = pd.read_html(url)[10]\n",
    "mortality_rates_by_race.head()"
   ]
  },
  {
   "cell_type": "code",
   "execution_count": null,
   "metadata": {
    "collapsed": true
   },
   "outputs": [],
   "source": [
    "national_incidence_trends_male = pd.read_html(url)[11]\n",
    "national_incidence_trends_male.columns = ['cancer_type', 'number']\n",
    "national_incidence_trends_male['type'] = \"Male\"\n",
    "national_incidence_trends_male.head()"
   ]
  },
  {
   "cell_type": "code",
   "execution_count": null,
   "metadata": {
    "collapsed": true
   },
   "outputs": [],
   "source": [
    "national_incidence_trends_female = pd.read_html(url)[12]\n",
    "national_incidence_trends_female.columns = ['cancer_type', 'number']\n",
    "national_incidence_trends_female['type'] = \"Female\"\n",
    "national_incidence_trends_female.head()"
   ]
  },
  {
   "cell_type": "code",
   "execution_count": null,
   "metadata": {
    "collapsed": true
   },
   "outputs": [],
   "source": [
    "national_mortality_trends_male = pd.read_html(url)[13]\n",
    "national_mortality_trends_male.columns = ['cancer_type', 'number']\n",
    "national_mortality_trends_male['type'] = 'Male'\n",
    "national_mortality_trends_male.head()"
   ]
  },
  {
   "cell_type": "code",
   "execution_count": null,
   "metadata": {
    "collapsed": true
   },
   "outputs": [],
   "source": [
    "national_mortality_trends_female = pd.read_html(url)[14]\n",
    "national_mortality_trends_female.columns = ['cancer_type', 'number']\n",
    "national_mortality_trends_female['type'] = \"Female\"\n",
    "national_mortality_trends_female.head()"
   ]
  },
  {
   "cell_type": "code",
   "execution_count": null,
   "metadata": {
    "collapsed": true
   },
   "outputs": [],
   "source": [
    "cancer_vs_other_death_causes = pd.read_html(url)[15]\n",
    "cancer_vs_other_death_causes.columns = ['cancer_type', 'number']\n",
    "cancer_vs_other_death_causes['type'] = \"Both\"\n",
    "cancer_vs_other_death_causes"
   ]
  },
  {
   "cell_type": "code",
   "execution_count": null,
   "metadata": {
    "collapsed": true
   },
   "outputs": [],
   "source": [
    "us_death_rate_less65 = pd.read_html(url)[16]\n",
    "us_death_rate_less65['type'] = 'Both'\n",
    "us_death_rate_less65"
   ]
  },
  {
   "cell_type": "code",
   "execution_count": null,
   "metadata": {
    "collapsed": true
   },
   "outputs": [],
   "source": [
    "us_death_rate_greater65 = pd.read_html(url)[17]\n",
    "us_death_rate_greater65['type'] = 'Both'\n",
    "us_death_rate_greater65"
   ]
  },
  {
   "cell_type": "code",
   "execution_count": null,
   "metadata": {
    "collapsed": true
   },
   "outputs": [],
   "source": [
    "frames = [\n",
    "    diagnosed_male,\n",
    "    diagnosed_female,\n",
    "]"
   ]
  }
 ],
 "metadata": {
  "kernelspec": {
   "display_name": "Python [conda env:PythonData]",
   "language": "python",
   "name": "pythondata"
  },
  "language_info": {
   "codemirror_mode": {
    "name": "ipython",
    "version": 3
   },
   "file_extension": ".py",
   "mimetype": "text/x-python",
   "name": "python",
   "nbconvert_exporter": "python",
   "pygments_lexer": "ipython3",
   "version": "3.6.3"
  }
 },
 "nbformat": 4,
 "nbformat_minor": 2
}
